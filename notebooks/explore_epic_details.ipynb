{
 "cells": [
  {
   "cell_type": "markdown",
   "metadata": {},
   "source": [
    "# Explore Epic Details\n",
    "\n",
    "This notebook is a focused tool for fetching and displaying all available details for a single instrument using its `epic` identifier. \n",
    "\n",
    "### How to Use\n",
    "\n",
    "1.  **Configure the Epic:** In the first code cell, change the value of the `EPIC_TO_QUERY` variable to the epic you want to investigate (e.g., `\"OIL_CRUDE\"`, `\"TSLA\"`, `\"EURUSD\"`).\n",
    "2.  **Run All Cells:** Execute all cells in the notebook (`Kernel > Restart & Run All`).\n",
    "\n",
    "The output will be a detailed table containing all instrument properties, dealing rules, and a current market snapshot."
   ]
  },
  {
   "cell_type": "markdown",
   "metadata": {},
   "source": [
    "### 1. Setup and Imports\n",
    "\n",
    "This cell imports the necessary libraries and configures the environment to access our project's source code."
   ]
  },
  {
   "cell_type": "code",
   "execution_count": null,
   "metadata": {},
   "outputs": [],
   "source": [
    "import os\n",
    "import sys\n",
    "from pathlib import Path\n",
    "\n",
    "import pandas as pd\n",
    "from loguru import logger\n",
    "\n",
    "# Add the project root to the Python path to allow module imports\n",
    "notebook_dir = Path(os.getcwd())\n",
    "project_root = notebook_dir.parent\n",
    "if str(project_root) not in sys.path:\n",
    "    sys.path.insert(0, str(project_root))\n",
    "\n",
    "from src.capitalcom_bot.client_factory import get_client  # noqa: E402\n",
    "\n",
    "# Configure logger and pandas for clean output\n",
    "logger.remove()\n",
    "logger.add(sys.stderr, level=\"INFO\")\n",
    "pd.set_option(\"display.max_columns\", None)\n",
    "pd.set_option(\"display.width\", 1000)"
   ]
  },
  {
   "cell_type": "markdown",
   "metadata": {},
   "source": [
    "### 2. Configuration\n",
    "\n",
    "Define the epic identifier for the instrument you want to investigate."
   ]
  },
  {
   "cell_type": "code",
   "execution_count": null,
   "metadata": {},
   "outputs": [],
   "source": [
    "# <-- CHANGE THIS VALUE to the epic you want to explore\n",
    "EPIC_TO_QUERY = \"US500\""
   ]
  },
  {
   "cell_type": "markdown",
   "metadata": {},
   "source": [
    "### 3. Fetch and Display Data\n",
    "\n",
    "This cell establishes a secure connection using the context manager, calls the API to fetch the detailed data, and formats the response into a readable table."
   ]
  },
  {
   "cell_type": "code",
   "execution_count": null,
   "metadata": {},
   "outputs": [],
   "source": [
    "if not EPIC_TO_QUERY:\n",
    "    logger.error(\n",
    "        \"The 'EPIC_TO_QUERY' variable is not set. Please define an epic in the cell above.\"\n",
    "    )\n",
    "else:\n",
    "    try:\n",
    "        # The 'with' statement ensures the client is created and the session is closed automatically.\n",
    "        with get_client(demo_mode=True) as client:\n",
    "            logger.info(f\"--- Fetching full details for {EPIC_TO_QUERY} ---\")\n",
    "\n",
    "            # 1. Fetch the data using the dedicated client method\n",
    "            full_details = client.get_full_market_details(epic=EPIC_TO_QUERY)\n",
    "\n",
    "            # 2. Convert the Pydantic model to a dictionary\n",
    "            details_dict = full_details.model_dump()\n",
    "\n",
    "            # 3. Normalize the nested dictionary into a flat structure and transpose for readability\n",
    "            series_details = pd.json_normalize(details_dict).T\n",
    "            series_details.columns = [\"Value\"]\n",
    "\n",
    "            logger.success(\n",
    "                f\"Successfully retrieved details for '{full_details.instrument.name}'.\"\n",
    "            )\n",
    "            display(series_details)\n",
    "\n",
    "    except Exception as e:\n",
    "        logger.error(\n",
    "            f\"An error occurred during the API workflow for {EPIC_TO_QUERY}: {e}\",\n",
    "            exc_info=True,\n",
    "        )"
   ]
  }
 ],
 "metadata": {
  "kernelspec": {
   "display_name": "capitalcom",
   "language": "python",
   "name": "python3"
  },
  "language_info": {
   "codemirror_mode": {
    "name": "ipython",
    "version": 3
   },
   "file_extension": ".py",
   "mimetype": "text/x-python",
   "name": "python",
   "nbconvert_exporter": "python",
   "pygments_lexer": "ipython3",
   "version": "3.12.3"
  }
 },
 "nbformat": 4,
 "nbformat_minor": 4
}
