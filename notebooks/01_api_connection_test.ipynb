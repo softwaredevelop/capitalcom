{
 "cells": [
  {
   "cell_type": "markdown",
   "metadata": {},
   "source": [
    "# 1. API Connection and Market Discovery Workflow\n",
    "\n",
    "This notebook provides a comprehensive, step-by-step guide to connecting to the Capital.com API and discovering markets hierarchically. The goal is to retrieve all the detailed data for a specific instrument by the end of the process.\n",
    "\n",
    "**Workflow Steps:**\n",
    "1. Set up the environment and import necessary modules.\n",
    "2. Initialize the API client with credentials.\n",
    "3. Verify the successful connection by fetching session details.\n",
    "4. Map the top-level market categories.\n",
    "5. Drill down into a selected top-level category to view its sub-groups.\n",
    "6. List the instruments within a sub-group.\n",
    "7. Fetch all detailed data for a single instrument.\n",
    "8. Close the connection."
   ]
  },
  {
   "cell_type": "markdown",
   "metadata": {},
   "source": [
    "### Step 1: Environment Setup and Imports\n",
    "\n",
    "First, we import the necessary libraries and set up the Python environment to access our project's source code (the `src` directory) from the notebook. We also configure `loguru` and `pandas` for better readability."
   ]
  },
  {
   "cell_type": "code",
   "execution_count": null,
   "metadata": {},
   "outputs": [],
   "source": [
    "import os\n",
    "import sys\n",
    "from pathlib import Path\n",
    "\n",
    "import pandas as pd\n",
    "from loguru import logger\n",
    "\n",
    "notebook_dir = Path(os.getcwd())\n",
    "project_root = notebook_dir.parent\n",
    "if str(project_root) not in sys.path:\n",
    "    sys.path.insert(0, str(project_root))\n",
    "\n",
    "from src.capitalcom_bot.api_client import CapitalComAPIClient  # noqa: E402\n",
    "from src.capitalcom_bot.config import load_api_credentials  # noqa: E402\n",
    "\n",
    "logger.remove()\n",
    "logger.add(sys.stderr, level=\"INFO\")\n",
    "\n",
    "pd.set_option(\"display.max_columns\", None)\n",
    "pd.set_option(\"display.width\", 1000)"
   ]
  },
  {
   "cell_type": "markdown",
   "metadata": {},
   "source": [
    "### Step 2: Initialize the API Client\n",
    "\n",
    "We load the credentials from the `.env` file and create an instance of the `CapitalComAPIClient`. During initialization, the client automatically establishes an API session."
   ]
  },
  {
   "cell_type": "code",
   "execution_count": null,
   "metadata": {},
   "outputs": [],
   "source": [
    "api_creds = load_api_credentials()\n",
    "\n",
    "client = CapitalComAPIClient(\n",
    "    identifier=api_creds.identifier,\n",
    "    password=api_creds.password,\n",
    "    api_key=api_creds.api_key,\n",
    "    demo_mode=True,\n",
    ")"
   ]
  },
  {
   "cell_type": "markdown",
   "metadata": {},
   "source": [
    "### Step 3: Verify the Connection\n",
    "\n",
    "We fetch the details of the current session. If this cell runs without errors and returns data, it means the login was successful."
   ]
  },
  {
   "cell_type": "code",
   "execution_count": null,
   "metadata": {},
   "outputs": [],
   "source": [
    "try:\n",
    "    session_details = client.get_session_details()\n",
    "    print(\"Successfully fetched session details:\")\n",
    "    print(session_details.model_dump_json(indent=2))\n",
    "except Exception as e:\n",
    "    logger.error(f\"Error fetching session details: {e}\")"
   ]
  },
  {
   "cell_type": "markdown",
   "metadata": {},
   "source": [
    "### Step 4: Map Top-Level Market Categories\n",
    "\n",
    "We query all available top-level market categories (e.g., Indices, Shares) and load the result into an easy-to-use pandas DataFrame. Then, we programmatically find the ID for the 'indices' category."
   ]
  },
  {
   "cell_type": "code",
   "execution_count": null,
   "metadata": {},
   "outputs": [],
   "source": [
    "try:\n",
    "    market_categories_response = client.get_market_categories()\n",
    "\n",
    "    if market_categories_response.nodes:\n",
    "        nodes_dict = [node.model_dump() for node in market_categories_response.nodes]\n",
    "        df_categories = pd.DataFrame(nodes_dict)\n",
    "\n",
    "        print(\"Top-level market categories in a DataFrame:\")\n",
    "        display(df_categories)\n",
    "    else:\n",
    "        logger.warning(\"No market categories were received.\")\n",
    "\n",
    "except Exception as e:\n",
    "    logger.error(f\"Error processing market categories: {e}\", exc_info=True)"
   ]
  },
  {
   "cell_type": "code",
   "execution_count": null,
   "metadata": {},
   "outputs": [],
   "source": [
    "if \"df_categories\" in locals():\n",
    "    search_term = \"indices\"\n",
    "    indices_category = df_categories[\n",
    "        df_categories[\"name\"].str.contains(search_term, case=False)\n",
    "    ]\n",
    "\n",
    "    if not indices_category.empty:\n",
    "        display(indices_category)\n",
    "\n",
    "        node_id_for_indices = indices_category[\"id\"].iloc[0]\n",
    "        print(f\"\\nThe ID for the 'indices' category is: '{node_id_for_indices}'\")\n",
    "    else:\n",
    "        logger.warning(f\"Category '{search_term}' not found.\")"
   ]
  },
  {
   "cell_type": "markdown",
   "metadata": {},
   "source": [
    "### Step 5: Drill Down into a Top-Level Category\n",
    "\n",
    "Using the ID found previously, we query the content of the 'indices' category to see what sub-groups it contains."
   ]
  },
  {
   "cell_type": "code",
   "execution_count": null,
   "metadata": {},
   "outputs": [],
   "source": [
    "if \"node_id_for_indices\" in locals():\n",
    "    try:\n",
    "        logger.info(f\"Querying content for category ID '{node_id_for_indices}'...\")\n",
    "        group_details = client.get_markets_by_category(node_id_for_indices)\n",
    "\n",
    "        if group_details.get(\"nodes\"):\n",
    "            print(\"\\nFound sub-groups:\")\n",
    "            df_subgroups = pd.DataFrame(group_details[\"nodes\"])\n",
    "            display(df_subgroups)\n",
    "        else:\n",
    "            logger.info(\"This category does not contain further sub-groups.\")\n",
    "\n",
    "        if group_details.get(\"markets\"):\n",
    "            print(\"\\nIn the main category, there are also instruments listed directly:\")\n",
    "            display(pd.DataFrame(group_details[\"markets\"]).head())\n",
    "\n",
    "    except Exception as e:\n",
    "        logger.error(f\"Error querying category content: {e}\", exc_info=True)\n",
    "else:\n",
    "    logger.warning(\n",
    "        \"The 'node_id_for_indices' variable does not exist. Please run the previous cell!\"\n",
    "    )"
   ]
  },
  {
   "cell_type": "markdown",
   "metadata": {},
   "source": [
    "### Step 6: List Instruments in a Sub-Group\n",
    "\n",
    "We select one of the sub-groups from the list above and list all the instruments it contains in a pandas DataFrame."
   ]
  },
  {
   "cell_type": "code",
   "execution_count": null,
   "metadata": {},
   "outputs": [],
   "source": [
    "if \"df_subgroups\" in locals() and not df_subgroups.empty:\n",
    "    try:\n",
    "        subgroup_to_query = df_subgroups.iloc[0]\n",
    "        subgroup_id = subgroup_to_query[\"id\"]\n",
    "        subgroup_name = subgroup_to_query[\"name\"]\n",
    "\n",
    "        logger.info(\n",
    "            f\"Querying instruments for sub-group '{subgroup_name}' ({subgroup_id})...\"\n",
    "        )\n",
    "        subgroup_content = client.get_markets_by_category(subgroup_id)\n",
    "\n",
    "        if subgroup_content.get(\"markets\"):\n",
    "            df_instruments = pd.DataFrame(subgroup_content[\"markets\"])\n",
    "            print(f\"\\nInstruments in the '{subgroup_name}' sub-group:\")\n",
    "            display_columns = [\n",
    "                \"epic\",\n",
    "                \"instrumentName\",\n",
    "                \"bid\",\n",
    "                \"offer\",\n",
    "                \"marketStatus\",\n",
    "                \"streamingPricesAvailable\",\n",
    "            ]\n",
    "            existing_columns = [\n",
    "                col for col in display_columns if col in df_instruments.columns\n",
    "            ]\n",
    "            display(df_instruments[existing_columns])\n",
    "        else:\n",
    "            logger.warning(f\"The '{subgroup_name}' sub-group contains no instruments.\")\n",
    "\n",
    "    except Exception as e:\n",
    "        logger.error(f\"Error querying instruments in sub-group: {e}\", exc_info=True)\n",
    "else:\n",
    "    logger.warning(\n",
    "        \"The 'df_subgroups' DataFrame does not exist or is empty. Please run the previous cell!\"\n",
    "    )"
   ]
  },
  {
   "cell_type": "markdown",
   "metadata": {},
   "source": [
    "### Step 7: Fetch Detailed Data for a Single Instrument\n",
    "\n",
    "Finally, we fetch all the detailed data for a single, specific instrument (e.g., US500) using its `epic` identifier and display it in an easy-to-read format."
   ]
  },
  {
   "cell_type": "code",
   "execution_count": null,
   "metadata": {},
   "outputs": [],
   "source": [
    "epic_to_query = \"US500\"\n",
    "\n",
    "try:\n",
    "    logger.info(f\"Fetching detailed data for: '{epic_to_query}'...\")\n",
    "    full_details = client.get_full_market_details(epic=epic_to_query)\n",
    "    details_dict = full_details.model_dump()\n",
    "    df_details_flat = pd.json_normalize(details_dict)\n",
    "    series_details = df_details_flat.T\n",
    "    series_details.columns = [\"Value\"]\n",
    "\n",
    "    print(f\"\\nDetailed data for the '{epic_to_query}' instrument:\")\n",
    "    display(series_details)\n",
    "\n",
    "except Exception as e:\n",
    "    logger.error(\n",
    "        f\"Error fetching details for epic '{epic_to_query}': {e}\", exc_info=True\n",
    "    )"
   ]
  },
  {
   "cell_type": "markdown",
   "metadata": {},
   "source": [
    "### Step 8: Close the Session\n",
    "\n",
    "At the end of the workflow, it's important to close the API session using the `close_session()` method. This performs a secure logout."
   ]
  },
  {
   "cell_type": "code",
   "execution_count": null,
   "metadata": {},
   "outputs": [],
   "source": [
    "client.close_session()"
   ]
  }
 ],
 "metadata": {
  "kernelspec": {
   "display_name": "capitalcom",
   "language": "python",
   "name": "python3"
  },
  "language_info": {
   "codemirror_mode": {
    "name": "ipython",
    "version": 3
   },
   "file_extension": ".py",
   "mimetype": "text/x-python",
   "name": "python",
   "nbconvert_exporter": "python",
   "pygments_lexer": "ipython3",
   "version": "3.13.5"
  }
 },
 "nbformat": 4,
 "nbformat_minor": 4
}
