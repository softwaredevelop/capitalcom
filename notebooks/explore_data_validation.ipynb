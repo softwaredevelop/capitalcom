{
 "cells": [
  {
   "cell_type": "markdown",
   "metadata": {},
   "source": [
    "# Advanced Data and Indicator Validation\n",
    "\n",
    "This notebook provides a professional-grade workflow for validating historical data and technical indicator calculations. It uses reusable utility functions to handle instrument-specific data cleaning and visualization.\n",
    "\n",
    "### The Validation Process:\n",
    "\n",
    "1.  **Fetch Data:** We download historical data for a specific instrument.\n",
    "2.  **Get Instrument Type:** We fetch the instrument's details to determine its type (e.g., Crypto or Share).\n",
    "3.  **Clean Data:** We use our smart `clean_trading_data` utility, which applies the correct cleaning logic based on the instrument type.\n",
    "4.  **Calculate Indicator:** We calculate the RSI on the cleaned dataset.\n",
    "5.  **Interactive Visualization:** We use `Plotly` and our `create_rangebreaks_for_epic` utility to create an accurate, interactive chart for precise comparison with a source like TradingView."
   ]
  },
  {
   "cell_type": "markdown",
   "metadata": {},
   "source": [
    "### 1. Setup and Imports"
   ]
  },
  {
   "cell_type": "code",
   "execution_count": null,
   "metadata": {},
   "outputs": [],
   "source": [
    "import os\n",
    "import sys\n",
    "from pathlib import Path\n",
    "\n",
    "import pandas as pd\n",
    "import plotly.graph_objects as go\n",
    "import talib\n",
    "from loguru import logger\n",
    "from plotly.subplots import make_subplots\n",
    "\n",
    "# Add the project root to the Python path\n",
    "notebook_dir = Path(os.getcwd())\n",
    "project_root = notebook_dir.parent\n",
    "if str(project_root) not in sys.path:\n",
    "    sys.path.insert(0, str(project_root))\n",
    "\n",
    "from src.capitalcom_bot.client_factory import get_client  # noqa: E402\n",
    "\n",
    "# Import our new utility functions\n",
    "from src.capitalcom_bot.utils.data_processing import clean_trading_data  # noqa: E402\n",
    "from src.capitalcom_bot.utils.plotting import create_rangebreaks_for_epic  # noqa: E402\n",
    "\n",
    "logger.remove()\n",
    "logger.add(sys.stderr, level=\"INFO\")"
   ]
  },
  {
   "cell_type": "markdown",
   "metadata": {},
   "source": [
    "### 2. Configuration and Data Fetching"
   ]
  },
  {
   "cell_type": "code",
   "execution_count": null,
   "metadata": {},
   "outputs": [],
   "source": [
    "# --- CONFIGURATION ---\n",
    "# Try 'ETHUSD' (crypto) and 'TSLA' (stock) to see the different handling\n",
    "EPIC_TO_VALIDATE = \"BOTZ\"\n",
    "RESOLUTION = \"HOUR\"\n",
    "DATA_POINTS = 500\n",
    "RSI_PERIOD = 14\n",
    "\n",
    "# --- DATA FETCHING ---\n",
    "df_raw = pd.DataFrame()\n",
    "instrument_type = \"\"\n",
    "\n",
    "try:\n",
    "    with get_client(demo_mode=True) as client:\n",
    "        logger.info(f\"Fetching data and details for {EPIC_TO_VALIDATE}...\")\n",
    "        # Fetch both historical prices and instrument details in one session\n",
    "        df_raw = client.get_historical_prices(EPIC_TO_VALIDATE, RESOLUTION, DATA_POINTS)\n",
    "        details = client.get_full_market_details(EPIC_TO_VALIDATE)\n",
    "        instrument_type = details.instrument.type\n",
    "        logger.success(\n",
    "            f\"Successfully fetched {len(df_raw)} data points for {instrument_type} instrument.\"\n",
    "        )\n",
    "except Exception as e:\n",
    "    logger.error(f\"Failed to fetch data: {e}\", exc_info=True)"
   ]
  },
  {
   "cell_type": "markdown",
   "metadata": {},
   "source": [
    "### 3. Data Cleaning and Indicator Calculation\n",
    "\n",
    "Here we use our reusable `clean_trading_data` function. It will automatically apply the correct logic (keep or remove weekends) based on the `instrument_type` we fetched in the previous step."
   ]
  },
  {
   "cell_type": "code",
   "execution_count": null,
   "metadata": {},
   "outputs": [],
   "source": [
    "if not df_raw.empty:\n",
    "    # Use the smart cleaning function\n",
    "    df_cleaned = clean_trading_data(df_raw, instrument_type)\n",
    "\n",
    "    # Calculate indicator on the cleaned data\n",
    "    df_cleaned[\"rsi\"] = talib.RSI(df_cleaned[\"close\"], timeperiod=RSI_PERIOD)\n",
    "\n",
    "    print(\"\\nCleaned data with calculated RSI (last 5 rows):\")\n",
    "    display(df_cleaned.tail())"
   ]
  },
  {
   "cell_type": "markdown",
   "metadata": {},
   "source": [
    "### 4. Interactive Visualization\n",
    "\n",
    "We now create the plot. The `create_rangebreaks_for_epic` function will automatically generate the correct axis breaks (or none for crypto), ensuring an accurate visual representation."
   ]
  },
  {
   "cell_type": "code",
   "execution_count": null,
   "metadata": {},
   "outputs": [],
   "source": [
    "if \"df_cleaned\" in locals() and not df_cleaned.empty:\n",
    "    rangebreaks = []\n",
    "    try:\n",
    "        with get_client(demo_mode=True) as client:\n",
    "            rangebreaks = create_rangebreaks_for_epic(client, EPIC_TO_VALIDATE)\n",
    "    except Exception as e:\n",
    "        logger.error(f\"Failed to create rangebreaks, chart may have gaps. Error: {e}\")\n",
    "\n",
    "    fig = make_subplots(\n",
    "        rows=2, cols=1, shared_xaxes=True, vertical_spacing=0.05, row_heights=[0.7, 0.3]\n",
    "    )\n",
    "\n",
    "    fig.add_trace(\n",
    "        go.Candlestick(\n",
    "            x=df_cleaned.index,\n",
    "            open=df_cleaned[\"open\"],\n",
    "            high=df_cleaned[\"high\"],\n",
    "            low=df_cleaned[\"low\"],\n",
    "            close=df_cleaned[\"close\"],\n",
    "            name=\"Price\",\n",
    "        ),\n",
    "        row=1,\n",
    "        col=1,\n",
    "    )\n",
    "\n",
    "    fig.add_trace(\n",
    "        go.Scatter(\n",
    "            x=df_cleaned.index,\n",
    "            y=df_cleaned[\"rsi\"],\n",
    "            mode=\"lines\",\n",
    "            name=f\"RSI({RSI_PERIOD})\",\n",
    "            line=dict(color=\"purple\"),\n",
    "        ),\n",
    "        row=2,\n",
    "        col=1,\n",
    "    )\n",
    "\n",
    "    fig.add_hline(\n",
    "        y=70,\n",
    "        line_dash=\"dash\",\n",
    "        line_color=\"red\",\n",
    "        row=2,\n",
    "        col=1,\n",
    "        annotation_text=\"Overbought\",\n",
    "    )\n",
    "    fig.add_hline(\n",
    "        y=30,\n",
    "        line_dash=\"dash\",\n",
    "        line_color=\"green\",\n",
    "        row=2,\n",
    "        col=1,\n",
    "        annotation_text=\"Oversold\",\n",
    "    )\n",
    "\n",
    "    fig.update_layout(\n",
    "        title_text=f\"Interactive Validation Chart for {EPIC_TO_VALIDATE} ({RESOLUTION})\",\n",
    "        xaxis_rangeslider_visible=False,\n",
    "        height=800,\n",
    "        showlegend=False,\n",
    "    )\n",
    "\n",
    "    fig.update_xaxes(rangebreaks=rangebreaks)\n",
    "\n",
    "    fig.update_yaxes(title_text=\"Price\", row=1, col=1)\n",
    "    fig.update_yaxes(title_text=\"RSI Value\", range=[0, 100], row=2, col=1)\n",
    "\n",
    "    fig.show()"
   ]
  }
 ],
 "metadata": {
  "kernelspec": {
   "display_name": "capitalcom",
   "language": "python",
   "name": "python3"
  },
  "language_info": {
   "codemirror_mode": {
    "name": "ipython",
    "version": 3
   },
   "file_extension": ".py",
   "mimetype": "text/x-python",
   "name": "python",
   "nbconvert_exporter": "python",
   "pygments_lexer": "ipython3",
   "version": "3.12.3"
  }
 },
 "nbformat": 4,
 "nbformat_minor": 4
}
